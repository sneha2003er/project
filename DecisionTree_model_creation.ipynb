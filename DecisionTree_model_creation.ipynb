{
  "nbformat": 4,
  "nbformat_minor": 0,
  "metadata": {
    "colab": {
      "provenance": [],
      "authorship_tag": "ABX9TyNUcHgWqQJmztOX14UtLfSP",
      "include_colab_link": true
    },
    "kernelspec": {
      "name": "python3",
      "display_name": "Python 3"
    },
    "language_info": {
      "name": "python"
    }
  },
  "cells": [
    {
      "cell_type": "markdown",
      "metadata": {
        "id": "view-in-github",
        "colab_type": "text"
      },
      "source": [
        "<a href=\"https://colab.research.google.com/github/sneha2003er/project/blob/main/DecisionTree_model_creation.ipynb\" target=\"_parent\"><img src=\"https://colab.research.google.com/assets/colab-badge.svg\" alt=\"Open In Colab\"/></a>"
      ]
    },
    {
      "cell_type": "code",
      "execution_count": null,
      "metadata": {
        "id": "ysq4LBhAy2jU"
      },
      "outputs": [],
      "source": [
        "import os\n",
        "import numpy as np\n",
        "import cv2\n",
        "from sklearn.metrics import accuracy_score, confusion_matrix\n",
        "from sklearn.metrics import precision_score, recall_score, f1_score\n",
        "import matplotlib.pyplot as plt\n",
        "import seaborn as sns\n",
        "from sklearn.tree import DecisionTreeClassifier\n"
      ]
    },
    {
      "cell_type": "code",
      "source": [
        "from google.colab import drive"
      ],
      "metadata": {
        "id": "iuYv5CVU3_8h"
      },
      "execution_count": null,
      "outputs": []
    },
    {
      "cell_type": "code",
      "source": [
        "drive.mount('/content/drive')"
      ],
      "metadata": {
        "colab": {
          "base_uri": "https://localhost:8080/"
        },
        "id": "yOeyhYr64DKH",
        "outputId": "a735aa84-be34-40a3-a100-2f00768fbbea"
      },
      "execution_count": null,
      "outputs": [
        {
          "output_type": "stream",
          "name": "stdout",
          "text": [
            "Mounted at /content/drive\n"
          ]
        }
      ]
    },
    {
      "cell_type": "code",
      "source": [
        "# Load images\n",
        "train_fire_images = '/content/drive/MyDrive/data/dataset/img_data/train/fire'\n",
        "train_default_images = '/content/drive/MyDrive/data/dataset/img_data/train/default'\n",
        "train_smoke_images = '/content/drive/MyDrive/data/dataset/img_data/train/smoke'\n",
        "\n",
        "test_fire_images = '/content/drive/MyDrive/data/dataset/img_data/test/fire'\n",
        "test_default_images ='/content/drive/MyDrive/data/dataset/img_data/test/default'\n",
        "test_smoke_images = '/content/drive/MyDrive/data/dataset/img_data/test/smoke'"
      ],
      "metadata": {
        "id": "yy_nZwJ84GmB"
      },
      "execution_count": null,
      "outputs": []
    },
    {
      "cell_type": "code",
      "source": [
        "# load videos\n",
        "train_videos = '/content/drive/MyDrive/data/dataset/video_data/test_videos'\n",
        "test_videos = '/content/drive/MyDrive/data/dataset/video_data/test_videos'"
      ],
      "metadata": {
        "id": "arBbMXMQ4K7y"
      },
      "execution_count": null,
      "outputs": []
    },
    {
      "cell_type": "code",
      "source": [
        "# Load images from a directory and label them\n",
        "def load_images_from_folder(folder, label):\n",
        "    images = []\n",
        "    labels = []\n",
        "    for filename in os.listdir(folder):\n",
        "        img = cv2.imread(os.path.join(folder, filename), cv2.IMREAD_GRAYSCALE)\n",
        "        if img is not None:\n",
        "            img = cv2.resize(img, (64, 64))\n",
        "            images.append(img.flatten())  # Flatten the image\n",
        "            labels.append(label)\n",
        "    return images, labels"
      ],
      "metadata": {
        "id": "0aZwe52A1vLI"
      },
      "execution_count": null,
      "outputs": []
    },
    {
      "cell_type": "code",
      "source": [
        "# Load training datasets\n",
        "train_fire_imgs, train_fire_labels = load_images_from_folder(train_fire_images, 'fire')\n",
        "train_default_imgs, train_default_labels = load_images_from_folder(train_default_images, 'default')\n",
        "train_smoke_imgs, train_smoke_labels = load_images_from_folder(train_smoke_images, 'smoke')\n",
        "\n",
        "# Load testing datasets\n",
        "test_fire_imgs, test_fire_labels = load_images_from_folder(test_fire_images, 'fire')\n",
        "test_default_imgs, test_default_labels = load_images_from_folder(test_default_images, 'default')\n",
        "test_smoke_imgs, test_smoke_labels = load_images_from_folder(test_smoke_images, 'smoke')\n"
      ],
      "metadata": {
        "id": "isO91m9J14Jp"
      },
      "execution_count": null,
      "outputs": []
    },
    {
      "cell_type": "code",
      "source": [
        "# Combine training and testing datasets\n",
        "X_train = train_fire_imgs + train_default_imgs + train_smoke_imgs\n",
        "y_train = train_fire_labels + train_default_labels + train_smoke_labels\n",
        "\n",
        "X_test = test_fire_imgs + test_default_imgs + test_smoke_imgs\n",
        "y_test = test_fire_labels + test_default_labels + test_smoke_labels"
      ],
      "metadata": {
        "id": "pkPrecPs19Gv"
      },
      "execution_count": null,
      "outputs": []
    },
    {
      "cell_type": "code",
      "source": [
        "# Creating and training the Decision Tree model\n",
        "clf = DecisionTreeClassifier()\n",
        "clf.fit(X_train, y_train)"
      ],
      "metadata": {
        "colab": {
          "base_uri": "https://localhost:8080/",
          "height": 74
        },
        "id": "AXTZf_9m2QEW",
        "outputId": "de160a8b-7f33-47b0-8410-5e8eab08f4d0"
      },
      "execution_count": null,
      "outputs": [
        {
          "output_type": "execute_result",
          "data": {
            "text/plain": [
              "DecisionTreeClassifier()"
            ],
            "text/html": [
              "<style>#sk-container-id-1 {color: black;background-color: white;}#sk-container-id-1 pre{padding: 0;}#sk-container-id-1 div.sk-toggleable {background-color: white;}#sk-container-id-1 label.sk-toggleable__label {cursor: pointer;display: block;width: 100%;margin-bottom: 0;padding: 0.3em;box-sizing: border-box;text-align: center;}#sk-container-id-1 label.sk-toggleable__label-arrow:before {content: \"▸\";float: left;margin-right: 0.25em;color: #696969;}#sk-container-id-1 label.sk-toggleable__label-arrow:hover:before {color: black;}#sk-container-id-1 div.sk-estimator:hover label.sk-toggleable__label-arrow:before {color: black;}#sk-container-id-1 div.sk-toggleable__content {max-height: 0;max-width: 0;overflow: hidden;text-align: left;background-color: #f0f8ff;}#sk-container-id-1 div.sk-toggleable__content pre {margin: 0.2em;color: black;border-radius: 0.25em;background-color: #f0f8ff;}#sk-container-id-1 input.sk-toggleable__control:checked~div.sk-toggleable__content {max-height: 200px;max-width: 100%;overflow: auto;}#sk-container-id-1 input.sk-toggleable__control:checked~label.sk-toggleable__label-arrow:before {content: \"▾\";}#sk-container-id-1 div.sk-estimator input.sk-toggleable__control:checked~label.sk-toggleable__label {background-color: #d4ebff;}#sk-container-id-1 div.sk-label input.sk-toggleable__control:checked~label.sk-toggleable__label {background-color: #d4ebff;}#sk-container-id-1 input.sk-hidden--visually {border: 0;clip: rect(1px 1px 1px 1px);clip: rect(1px, 1px, 1px, 1px);height: 1px;margin: -1px;overflow: hidden;padding: 0;position: absolute;width: 1px;}#sk-container-id-1 div.sk-estimator {font-family: monospace;background-color: #f0f8ff;border: 1px dotted black;border-radius: 0.25em;box-sizing: border-box;margin-bottom: 0.5em;}#sk-container-id-1 div.sk-estimator:hover {background-color: #d4ebff;}#sk-container-id-1 div.sk-parallel-item::after {content: \"\";width: 100%;border-bottom: 1px solid gray;flex-grow: 1;}#sk-container-id-1 div.sk-label:hover label.sk-toggleable__label {background-color: #d4ebff;}#sk-container-id-1 div.sk-serial::before {content: \"\";position: absolute;border-left: 1px solid gray;box-sizing: border-box;top: 0;bottom: 0;left: 50%;z-index: 0;}#sk-container-id-1 div.sk-serial {display: flex;flex-direction: column;align-items: center;background-color: white;padding-right: 0.2em;padding-left: 0.2em;position: relative;}#sk-container-id-1 div.sk-item {position: relative;z-index: 1;}#sk-container-id-1 div.sk-parallel {display: flex;align-items: stretch;justify-content: center;background-color: white;position: relative;}#sk-container-id-1 div.sk-item::before, #sk-container-id-1 div.sk-parallel-item::before {content: \"\";position: absolute;border-left: 1px solid gray;box-sizing: border-box;top: 0;bottom: 0;left: 50%;z-index: -1;}#sk-container-id-1 div.sk-parallel-item {display: flex;flex-direction: column;z-index: 1;position: relative;background-color: white;}#sk-container-id-1 div.sk-parallel-item:first-child::after {align-self: flex-end;width: 50%;}#sk-container-id-1 div.sk-parallel-item:last-child::after {align-self: flex-start;width: 50%;}#sk-container-id-1 div.sk-parallel-item:only-child::after {width: 0;}#sk-container-id-1 div.sk-dashed-wrapped {border: 1px dashed gray;margin: 0 0.4em 0.5em 0.4em;box-sizing: border-box;padding-bottom: 0.4em;background-color: white;}#sk-container-id-1 div.sk-label label {font-family: monospace;font-weight: bold;display: inline-block;line-height: 1.2em;}#sk-container-id-1 div.sk-label-container {text-align: center;}#sk-container-id-1 div.sk-container {/* jupyter's `normalize.less` sets `[hidden] { display: none; }` but bootstrap.min.css set `[hidden] { display: none !important; }` so we also need the `!important` here to be able to override the default hidden behavior on the sphinx rendered scikit-learn.org. See: https://github.com/scikit-learn/scikit-learn/issues/21755 */display: inline-block !important;position: relative;}#sk-container-id-1 div.sk-text-repr-fallback {display: none;}</style><div id=\"sk-container-id-1\" class=\"sk-top-container\"><div class=\"sk-text-repr-fallback\"><pre>DecisionTreeClassifier()</pre><b>In a Jupyter environment, please rerun this cell to show the HTML representation or trust the notebook. <br />On GitHub, the HTML representation is unable to render, please try loading this page with nbviewer.org.</b></div><div class=\"sk-container\" hidden><div class=\"sk-item\"><div class=\"sk-estimator sk-toggleable\"><input class=\"sk-toggleable__control sk-hidden--visually\" id=\"sk-estimator-id-1\" type=\"checkbox\" checked><label for=\"sk-estimator-id-1\" class=\"sk-toggleable__label sk-toggleable__label-arrow\">DecisionTreeClassifier</label><div class=\"sk-toggleable__content\"><pre>DecisionTreeClassifier()</pre></div></div></div></div></div>"
            ]
          },
          "metadata": {},
          "execution_count": 9
        }
      ]
    },
    {
      "cell_type": "code",
      "source": [
        "# Predict on train and test data\n",
        "y_train_pred = clf.predict(X_train)\n",
        "y_test_pred = clf.predict(X_test)\n",
        "\n",
        "# Concatenate predictions and ground truths\n",
        "all_y_true = y_train + y_test\n",
        "all_y_pred = list(y_train_pred) + list(y_test_pred)\n",
        "\n",
        "# Calculate overall accuracy\n",
        "overall_accuracy = accuracy_score(all_y_true, all_y_pred)\n",
        "\n",
        "print(f\"Overall Accuracy using DecisionTree: {overall_accuracy}\")"
      ],
      "metadata": {
        "colab": {
          "base_uri": "https://localhost:8080/"
        },
        "id": "dm_bGfzQ2dvV",
        "outputId": "78c24259-7c4b-4194-cd21-74660c1b47b0"
      },
      "execution_count": null,
      "outputs": [
        {
          "output_type": "stream",
          "name": "stdout",
          "text": [
            "Overall Accuracy using DecisionTree: 0.8873960332693538\n"
          ]
        }
      ]
    },
    {
      "cell_type": "code",
      "source": [
        "# Confusion matrix for the entire data\n",
        "cm = confusion_matrix(all_y_true, all_y_pred, labels=[\"fire\", \"default\", \"smoke\"])\n",
        "\n",
        "# Plotting confusion matrix\n",
        "plt.figure(figsize=(10, 7))\n",
        "sns.heatmap(cm, annot=True, fmt=\"d\", cmap=\"Blues\",\n",
        "            xticklabels=[\"fire\", \"default\", \"smoke\"],\n",
        "            yticklabels=[\"fire\", \"default\", \"smoke\"])\n",
        "plt.xlabel('Predicted labels')\n",
        "plt.ylabel('True labels')\n",
        "plt.title('Confusion Matrix using DecisionTree for Entire Data')\n",
        "plt.show()"
      ],
      "metadata": {
        "colab": {
          "base_uri": "https://localhost:8080/",
          "height": 641
        },
        "id": "3bQCW-uD3kdx",
        "outputId": "633df0cb-956b-4e60-e81d-a78243506d95"
      },
      "execution_count": null,
      "outputs": [
        {
          "output_type": "display_data",
          "data": {
            "text/plain": [
              "<Figure size 1000x700 with 2 Axes>"
            ],
            "image/png": "[encoded data removed]"
          },
          "metadata": {}
        }
      ]
    },
    {
      "cell_type": "code",
      "source": [
        "# Calculate precision, recall, and F1 score for each class\n",
        "precision = precision_score(all_y_true, all_y_pred, average=None)\n",
        "recall = recall_score(all_y_true, all_y_pred, average=None)\n",
        "f1 = f1_score(all_y_true, all_y_pred, average=None)\n",
        "\n",
        "# Calculate overall precision, recall, and F1 score\n",
        "overall_precision = precision_score(all_y_true, all_y_pred, average='weighted')\n",
        "overall_recall = recall_score(all_y_true, all_y_pred, average='weighted')\n",
        "overall_f1 = f1_score(all_y_true, all_y_pred, average='weighted')"
      ],
      "metadata": {
        "id": "ZI7bkoBy3-Y9"
      },
      "execution_count": null,
      "outputs": []
    },
    {
      "cell_type": "code",
      "source": [
        "# Print the results\n",
        "print(\"Class-wise Precision:\", precision)\n",
        "print(\"Class-wise Recall:\", recall)\n",
        "print(\"Class-wise F1 Score:\", f1)\n",
        "\n",
        "print(\"Overall Precision:\", overall_precision)\n",
        "print(\"Overall Recall:\", overall_recall)\n",
        "print(\"Overall F1 Score:\", overall_f1)"
      ],
      "metadata": {
        "colab": {
          "base_uri": "https://localhost:8080/"
        },
        "id": "XSX943gck28v",
        "outputId": "c421e737-5ecd-4412-8f2f-eab90401039b"
      },
      "execution_count": null,
      "outputs": [
        {
          "output_type": "stream",
          "name": "stdout",
          "text": [
            "Class-wise Precision: [0.85137615 0.91338583 0.9       ]\n",
            "Class-wise Recall: [0.89059501 0.89059501 0.88099808]\n",
            "Class-wise F1 Score: [0.87054409 0.90184645 0.89039767]\n",
            "Overall Precision: 0.8882539911868815\n",
            "Overall Recall: 0.8873960332693538\n",
            "Overall F1 Score: 0.8875960716953648\n"
          ]
        }
      ]
    }
  ]
}