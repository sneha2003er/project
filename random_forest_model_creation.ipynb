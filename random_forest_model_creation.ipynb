{
  "nbformat": 4,
  "nbformat_minor": 0,
  "metadata": {
    "colab": {
      "provenance": [],
      "authorship_tag": "ABX9TyNtZKU6gWOYwUKycDG2B0DO",
      "include_colab_link": true
    },
    "kernelspec": {
      "name": "python3",
      "display_name": "Python 3"
    },
    "language_info": {
      "name": "python"
    }
  },
  "cells": [
    {
      "cell_type": "markdown",
      "metadata": {
        "id": "view-in-github",
        "colab_type": "text"
      },
      "source": [
        "<a href=\"https://colab.research.google.com/github/sneha2003er/project/blob/main/random_forest_model_creation.ipynb\" target=\"_parent\"><img src=\"https://colab.research.google.com/assets/colab-badge.svg\" alt=\"Open In Colab\"/></a>"
      ]
    },
    {
      "cell_type": "code",
      "execution_count": null,
      "metadata": {
        "id": "NyPrXVWPJquu"
      },
      "outputs": [],
      "source": [
        "from google.colab import drive"
      ]
    },
    {
      "cell_type": "code",
      "source": [
        "drive.mount('/content/drive')\n"
      ],
      "metadata": {
        "colab": {
          "base_uri": "https://localhost:8080/"
        },
        "id": "gLSFX7PpJxcJ",
        "outputId": "e8540eaa-bf48-46c7-e531-6643449b7735"
      },
      "execution_count": null,
      "outputs": [
        {
          "output_type": "stream",
          "name": "stdout",
          "text": [
            "Mounted at /content/drive\n"
          ]
        }
      ]
    },
    {
      "cell_type": "markdown",
      "source": [
        "## Load Data"
      ],
      "metadata": {
        "id": "4hLfWSh6eypm"
      }
    },
    {
      "cell_type": "code",
      "source": [
        "# Load images\n",
        "train_fire_images = '/content/drive/MyDrive/data/dataset/img_data/train/fire'\n",
        "train_default_images = '/content/drive/MyDrive/data/dataset/img_data/train/default'\n",
        "train_smoke_images = '/content/drive/MyDrive/data/dataset/img_data/train/smoke'\n",
        "\n",
        "test_fire_images = '/content/drive/MyDrive/data/dataset/img_data/test/fire'\n",
        "test_default_images ='/content/drive/MyDrive/data/dataset/img_data/test/default'\n",
        "test_smoke_images = '/content/drive/MyDrive/data/dataset/img_data/test/smoke'"
      ],
      "metadata": {
        "id": "f_UsrTS5KCn9"
      },
      "execution_count": null,
      "outputs": []
    },
    {
      "cell_type": "code",
      "source": [
        "# load videos\n",
        "train_videos = '/content/drive/MyDrive/data/dataset/video_data/test_videos'\n",
        "test_videos = '/content/drive/MyDrive/data/dataset/video_data/test_videos'"
      ],
      "metadata": {
        "id": "X1W4aFIwKGWW"
      },
      "execution_count": null,
      "outputs": []
    },
    {
      "cell_type": "markdown",
      "source": [
        "## Import Libraries"
      ],
      "metadata": {
        "id": "PGt9-Gx0e15v"
      }
    },
    {
      "cell_type": "code",
      "source": [
        "!pip install playsound"
      ],
      "metadata": {
        "colab": {
          "base_uri": "https://localhost:8080/"
        },
        "id": "gg0CWc-rz_N5",
        "outputId": "351c57aa-5596-4002-b3d3-522048661141"
      },
      "execution_count": null,
      "outputs": [
        {
          "output_type": "stream",
          "name": "stdout",
          "text": [
            "Collecting playsound\n",
            "  Downloading playsound-1.3.0.tar.gz (7.7 kB)\n",
            "  Preparing metadata (setup.py) ... \u001b[?25l\u001b[?25hdone\n",
            "Building wheels for collected packages: playsound\n",
            "  Building wheel for playsound (setup.py) ... \u001b[?25l\u001b[?25hdone\n",
            "  Created wheel for playsound: filename=playsound-1.3.0-py3-none-any.whl size=7020 sha256=c9df91be01310733ad1571d41758088a90a190e9a9d71edd714accaf56ccbed9\n",
            "  Stored in directory: /root/.cache/pip/wheels/90/89/ed/2d643f4226fc8c7c9156fc28abd8051e2d2c0de37ae51ac45c\n",
            "Successfully built playsound\n",
            "Installing collected packages: playsound\n",
            "Successfully installed playsound-1.3.0\n"
          ]
        }
      ]
    },
    {
      "cell_type": "code",
      "source": [
        "import os\n",
        "import numpy as np\n",
        "import cv2\n",
        "from sklearn.ensemble import RandomForestClassifier\n",
        "from sklearn.metrics import accuracy_score, confusion_matrix\n",
        "from sklearn.metrics import precision_score, recall_score, f1_score\n",
        "import matplotlib.pyplot as plt\n",
        "import seaborn as sns\n",
        "from playsound import playsound\n",
        "import smtplib\n"
      ],
      "metadata": {
        "id": "Nv0i9COgKRKt"
      },
      "execution_count": null,
      "outputs": []
    },
    {
      "cell_type": "markdown",
      "source": [
        "## Load and Prepare the Image Data:"
      ],
      "metadata": {
        "id": "oqtXu-4NfEKS"
      }
    },
    {
      "cell_type": "code",
      "source": [
        "# Load images from a directory and label them\n",
        "def load_images_from_folder(folder, label):\n",
        "    images = []\n",
        "    labels = []\n",
        "    for filename in os.listdir(folder):\n",
        "        img = cv2.imread(os.path.join(folder, filename), cv2.IMREAD_GRAYSCALE)\n",
        "        if img is not None:\n",
        "            img = cv2.resize(img, (64, 64))\n",
        "            images.append(img.flatten())  # Flatten the image\n",
        "            labels.append(label)\n",
        "    return images, labels"
      ],
      "metadata": {
        "id": "ak4kA0yPKd73"
      },
      "execution_count": null,
      "outputs": []
    },
    {
      "cell_type": "markdown",
      "source": [
        "## alarm and email notification:"
      ],
      "metadata": {
        "id": "YTeHC5f-4DeR"
      }
    },
    {
      "cell_type": "code",
      "source": [
        "# Sound alarm\n",
        "def sound_alarm():\n",
        "    \"\"\"Play an alarm sound.\"\"\"\n",
        "    playsound('alarm.mp3')"
      ],
      "metadata": {
        "id": "LDjGktrF0STO"
      },
      "execution_count": null,
      "outputs": []
    },
    {
      "cell_type": "code",
      "source": [
        "# Send Email Notification\n",
        "def send_email_notification(subject, message, to_email):\n",
        "    from_email = 'your_email@gmail.com'\n",
        "    from_password = 'your_password'\n",
        "    server = smtplib.SMTP('smtp.gmail.com', 587)\n",
        "    server.starttls()\n",
        "    server.login(from_email, from_password)\n",
        "    email_message = f\"Subject: {subject}\\n\\n{message}\"\n",
        "    server.sendmail(from_email, to_email, email_message)\n",
        "    server.quit()"
      ],
      "metadata": {
        "id": "jTwQT1c90aDk"
      },
      "execution_count": null,
      "outputs": []
    },
    {
      "cell_type": "code",
      "source": [
        "# Evaluate Predictions\n",
        "def evaluate_predictions(y_true, y_pred):\n",
        "    for true, pred in zip(y_true, y_pred):\n",
        "        if pred == \"fire\":\n",
        "            sound_alarm()\n",
        "            send_email_notification(\"Fire Alert!\", \"Fire detected by our system. Please check immediately.\", \"receiver_email@example.com\")\n",
        "            break"
      ],
      "metadata": {
        "id": "ONt1HdrU0gBZ"
      },
      "execution_count": null,
      "outputs": []
    },
    {
      "cell_type": "code",
      "source": [
        "# Load training datasets\n",
        "train_fire_imgs, train_fire_labels = load_images_from_folder(train_fire_images, 'fire')\n",
        "train_default_imgs, train_default_labels = load_images_from_folder(train_default_images, 'default')\n",
        "train_smoke_imgs, train_smoke_labels = load_images_from_folder(train_smoke_images, 'smoke')\n",
        "\n",
        "# Load testing datasets\n",
        "test_fire_imgs, test_fire_labels = load_images_from_folder(test_fire_images, 'fire')\n",
        "test_default_imgs, test_default_labels = load_images_from_folder(test_default_images, 'default')\n",
        "test_smoke_imgs, test_smoke_labels = load_images_from_folder(test_smoke_images, 'smoke')\n"
      ],
      "metadata": {
        "id": "3nDMPFAhKxul"
      },
      "execution_count": null,
      "outputs": []
    },
    {
      "cell_type": "code",
      "source": [
        "# Combine training and testing datasets\n",
        "X_train = train_fire_imgs + train_default_imgs + train_smoke_imgs\n",
        "y_train = train_fire_labels + train_default_labels + train_smoke_labels\n",
        "\n",
        "X_test = test_fire_imgs + test_default_imgs + test_smoke_imgs\n",
        "y_test = test_fire_labels + test_default_labels + test_smoke_labels"
      ],
      "metadata": {
        "id": "1sbnVqvTK3yJ"
      },
      "execution_count": null,
      "outputs": []
    },
    {
      "cell_type": "markdown",
      "source": [
        "## Create and Train a Random Forest Model:"
      ],
      "metadata": {
        "id": "5yR4wxgRfNX9"
      }
    },
    {
      "cell_type": "code",
      "source": [
        "# Create a Random Forest classifier\n",
        "clf = RandomForestClassifier(n_estimators=100, random_state=42)\n",
        "\n",
        "# Train the classifier\n",
        "clf.fit(X_train, y_train)"
      ],
      "metadata": {
        "colab": {
          "base_uri": "https://localhost:8080/",
          "height": 74
        },
        "id": "1BIrGkLOLgNU",
        "outputId": "09bbf159-9cfd-40df-be3f-599d99123f26"
      },
      "execution_count": null,
      "outputs": [
        {
          "output_type": "execute_result",
          "data": {
            "text/plain": [
              "RandomForestClassifier(random_state=42)"
            ],
            "text/html": [
              "<style>#sk-container-id-1 {color: black;background-color: white;}#sk-container-id-1 pre{padding: 0;}#sk-container-id-1 div.sk-toggleable {background-color: white;}#sk-container-id-1 label.sk-toggleable__label {cursor: pointer;display: block;width: 100%;margin-bottom: 0;padding: 0.3em;box-sizing: border-box;text-align: center;}#sk-container-id-1 label.sk-toggleable__label-arrow:before {content: \"▸\";float: left;margin-right: 0.25em;color: #696969;}#sk-container-id-1 label.sk-toggleable__label-arrow:hover:before {color: black;}#sk-container-id-1 div.sk-estimator:hover label.sk-toggleable__label-arrow:before {color: black;}#sk-container-id-1 div.sk-toggleable__content {max-height: 0;max-width: 0;overflow: hidden;text-align: left;background-color: #f0f8ff;}#sk-container-id-1 div.sk-toggleable__content pre {margin: 0.2em;color: black;border-radius: 0.25em;background-color: #f0f8ff;}#sk-container-id-1 input.sk-toggleable__control:checked~div.sk-toggleable__content {max-height: 200px;max-width: 100%;overflow: auto;}#sk-container-id-1 input.sk-toggleable__control:checked~label.sk-toggleable__label-arrow:before {content: \"▾\";}#sk-container-id-1 div.sk-estimator input.sk-toggleable__control:checked~label.sk-toggleable__label {background-color: #d4ebff;}#sk-container-id-1 div.sk-label input.sk-toggleable__control:checked~label.sk-toggleable__label {background-color: #d4ebff;}#sk-container-id-1 input.sk-hidden--visually {border: 0;clip: rect(1px 1px 1px 1px);clip: rect(1px, 1px, 1px, 1px);height: 1px;margin: -1px;overflow: hidden;padding: 0;position: absolute;width: 1px;}#sk-container-id-1 div.sk-estimator {font-family: monospace;background-color: #f0f8ff;border: 1px dotted black;border-radius: 0.25em;box-sizing: border-box;margin-bottom: 0.5em;}#sk-container-id-1 div.sk-estimator:hover {background-color: #d4ebff;}#sk-container-id-1 div.sk-parallel-item::after {content: \"\";width: 100%;border-bottom: 1px solid gray;flex-grow: 1;}#sk-container-id-1 div.sk-label:hover label.sk-toggleable__label {background-color: #d4ebff;}#sk-container-id-1 div.sk-serial::before {content: \"\";position: absolute;border-left: 1px solid gray;box-sizing: border-box;top: 0;bottom: 0;left: 50%;z-index: 0;}#sk-container-id-1 div.sk-serial {display: flex;flex-direction: column;align-items: center;background-color: white;padding-right: 0.2em;padding-left: 0.2em;position: relative;}#sk-container-id-1 div.sk-item {position: relative;z-index: 1;}#sk-container-id-1 div.sk-parallel {display: flex;align-items: stretch;justify-content: center;background-color: white;position: relative;}#sk-container-id-1 div.sk-item::before, #sk-container-id-1 div.sk-parallel-item::before {content: \"\";position: absolute;border-left: 1px solid gray;box-sizing: border-box;top: 0;bottom: 0;left: 50%;z-index: -1;}#sk-container-id-1 div.sk-parallel-item {display: flex;flex-direction: column;z-index: 1;position: relative;background-color: white;}#sk-container-id-1 div.sk-parallel-item:first-child::after {align-self: flex-end;width: 50%;}#sk-container-id-1 div.sk-parallel-item:last-child::after {align-self: flex-start;width: 50%;}#sk-container-id-1 div.sk-parallel-item:only-child::after {width: 0;}#sk-container-id-1 div.sk-dashed-wrapped {border: 1px dashed gray;margin: 0 0.4em 0.5em 0.4em;box-sizing: border-box;padding-bottom: 0.4em;background-color: white;}#sk-container-id-1 div.sk-label label {font-family: monospace;font-weight: bold;display: inline-block;line-height: 1.2em;}#sk-container-id-1 div.sk-label-container {text-align: center;}#sk-container-id-1 div.sk-container {/* jupyter's `normalize.less` sets `[hidden] { display: none; }` but bootstrap.min.css set `[hidden] { display: none !important; }` so we also need the `!important` here to be able to override the default hidden behavior on the sphinx rendered scikit-learn.org. See: https://github.com/scikit-learn/scikit-learn/issues/21755 */display: inline-block !important;position: relative;}#sk-container-id-1 div.sk-text-repr-fallback {display: none;}</style><div id=\"sk-container-id-1\" class=\"sk-top-container\"><div class=\"sk-text-repr-fallback\"><pre>RandomForestClassifier(random_state=42)</pre><b>In a Jupyter environment, please rerun this cell to show the HTML representation or trust the notebook. <br />On GitHub, the HTML representation is unable to render, please try loading this page with nbviewer.org.</b></div><div class=\"sk-container\" hidden><div class=\"sk-item\"><div class=\"sk-estimator sk-toggleable\"><input class=\"sk-toggleable__control sk-hidden--visually\" id=\"sk-estimator-id-1\" type=\"checkbox\" checked><label for=\"sk-estimator-id-1\" class=\"sk-toggleable__label sk-toggleable__label-arrow\">RandomForestClassifier</label><div class=\"sk-toggleable__content\"><pre>RandomForestClassifier(random_state=42)</pre></div></div></div></div></div>"
            ]
          },
          "metadata": {},
          "execution_count": 13
        }
      ]
    },
    {
      "cell_type": "markdown",
      "source": [
        "## Predict and Evaluate the Model:\n",
        "\n"
      ],
      "metadata": {
        "id": "eUORoKlAfSM2"
      }
    },
    {
      "cell_type": "code",
      "source": [
        "# Predict on train and test data\n",
        "y_train_pred = clf.predict(X_train)\n",
        "y_test_pred = clf.predict(X_test)\n",
        "\n",
        "# Concatenate predictions and ground truths\n",
        "all_y_true = y_train + y_test\n",
        "all_y_pred = list(y_train_pred) + list(y_test_pred)\n",
        "\n",
        "# Calculate overall accuracy\n",
        "overall_accuracy = accuracy_score(all_y_true, all_y_pred)\n",
        "\n",
        "print(f\"Overall Accuracy: {overall_accuracy}\")"
      ],
      "metadata": {
        "colab": {
          "base_uri": "https://localhost:8080/"
        },
        "id": "OdXsFeq_Lsot",
        "outputId": "06f4965e-e1b4-4e47-b75b-1dc81e12aef6"
      },
      "execution_count": null,
      "outputs": [
        {
          "output_type": "stream",
          "name": "stdout",
          "text": [
            "Overall Accuracy: 0.891874600127959\n"
          ]
        }
      ]
    },
    {
      "cell_type": "markdown",
      "source": [
        "## Confusion Matrix:"
      ],
      "metadata": {
        "id": "ceDvf2jMfaxu"
      }
    },
    {
      "cell_type": "code",
      "source": [
        "# Confusion matrix for the entire data\n",
        "cm = confusion_matrix(all_y_true, all_y_pred, labels=[\"fire\", \"default\", \"smoke\"])\n",
        "\n",
        "# Plotting confusion matrix\n",
        "plt.figure(figsize=(10, 7))\n",
        "sns.heatmap(cm, annot=True, fmt=\"d\", cmap=\"Blues\",\n",
        "            xticklabels=[\"fire\", \"default\", \"smoke\"],\n",
        "            yticklabels=[\"fire\", \"default\", \"smoke\"])\n",
        "plt.xlabel('Predicted labels')\n",
        "plt.ylabel('True labels')\n",
        "plt.title('Confusion Matrix for Entire Data')\n",
        "plt.show()"
      ],
      "metadata": {
        "colab": {
          "base_uri": "https://localhost:8080/",
          "height": 641
        },
        "id": "b8jGDX8qM5Bk",
        "outputId": "ca862d6a-701f-453b-d726-2b0c9a5f22ab"
      },
      "execution_count": null,
      "outputs": [
        {
          "output_type": "display_data",
          "data": {
            "text/plain": [
              "<Figure size 1000x700 with 2 Axes>"
            ],
            "image/png": "[encoded data removed]"
          },
          "metadata": {}
        }
      ]
    },
    {
      "cell_type": "code",
      "source": [
        "# Calculate precision, recall, and F1 score for each class\n",
        "precision = precision_score(all_y_true, all_y_pred, average=None)\n",
        "recall = recall_score(all_y_true, all_y_pred, average=None)\n",
        "f1 = f1_score(all_y_true, all_y_pred, average=None)\n",
        "\n",
        "# Calculate overall precision, recall, and F1 score\n",
        "overall_precision = precision_score(all_y_true, all_y_pred, average='weighted')\n",
        "overall_recall = recall_score(all_y_true, all_y_pred, average='weighted')\n",
        "overall_f1 = f1_score(all_y_true, all_y_pred, average='weighted')\n",
        "\n"
      ],
      "metadata": {
        "id": "yQehM9a_iEd1"
      },
      "execution_count": null,
      "outputs": []
    },
    {
      "cell_type": "code",
      "source": [
        "# Print the results\n",
        "print(\"Class-wise Precision:\", precision)\n",
        "print(\"Class-wise Recall:\", recall)\n",
        "print(\"Class-wise F1 Score:\", f1)\n",
        "\n",
        "print(\"Overall Precision:\", overall_precision)\n",
        "print(\"Overall Recall:\", overall_recall)\n",
        "print(\"Overall F1 Score:\", overall_f1)"
      ],
      "metadata": {
        "id": "EMrjKmv7im9A",
        "outputId": "c7717838-09f8-47eb-aab0-1b7b83ae91bb",
        "colab": {
          "base_uri": "https://localhost:8080/"
        }
      },
      "execution_count": null,
      "outputs": [
        {
          "output_type": "stream",
          "name": "stdout",
          "text": [
            "Class-wise Precision: [0.83420593 0.94693878 0.904     ]\n",
            "Class-wise Recall: [0.91746641 0.89059501 0.86756238]\n",
            "Class-wise F1 Score: [0.8738574  0.91790307 0.88540646]\n",
            "Overall Precision: 0.895048236397526\n",
            "Overall Recall: 0.891874600127959\n",
            "Overall F1 Score: 0.8923889781812304\n"
          ]
        }
      ]
    }
  ]
}