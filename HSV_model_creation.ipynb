{
  "nbformat": 4,
  "nbformat_minor": 0,
  "metadata": {
    "colab": {
      "provenance": [],
      "authorship_tag": "ABX9TyOBeqFPB8PxJ2C35quMOXQt",
      "include_colab_link": true
    },
    "kernelspec": {
      "name": "python3",
      "display_name": "Python 3"
    },
    "language_info": {
      "name": "python"
    }
  },
  "cells": [
    {
      "cell_type": "markdown",
      "metadata": {
        "id": "view-in-github",
        "colab_type": "text"
      },
      "source": [
        "<a href=\"https://colab.research.google.com/github/sneha2003er/project/blob/main/HSV_model_creation.ipynb\" target=\"_parent\"><img src=\"https://colab.research.google.com/assets/colab-badge.svg\" alt=\"Open In Colab\"/></a>"
      ]
    },
    {
      "cell_type": "code",
      "execution_count": null,
      "metadata": {
        "id": "0HUnDTv0iF0F"
      },
      "outputs": [],
      "source": [
        " from google.colab import drive"
      ]
    },
    {
      "cell_type": "code",
      "source": [
        "drive.mount('/content/drive')"
      ],
      "metadata": {
        "id": "SbYBVyQ-iQoa",
        "colab": {
          "base_uri": "https://localhost:8080/"
        },
        "outputId": "9e090322-c471-4e84-fdc9-b37f6421a3ed"
      },
      "execution_count": null,
      "outputs": [
        {
          "output_type": "stream",
          "name": "stdout",
          "text": [
            "Mounted at /content/drive\n"
          ]
        }
      ]
    },
    {
      "cell_type": "code",
      "source": [
        "# Load images\n",
        "train_fire_images = '/content/drive/MyDrive/data/dataset/img_data/train/fire'\n",
        "train_default_images = '/content/drive/MyDrive/data/dataset/img_data/train/default'\n",
        "train_smoke_images = '/content/drive/MyDrive/data/dataset/img_data/train/smoke'\n",
        "\n",
        "test_fire_images = '/content/drive/MyDrive/data/dataset/img_data/test/fire'\n",
        "test_default_images ='/content/drive/MyDrive/data/dataset/img_data/test/default'\n",
        "test_smoke_images = '/content/drive/MyDrive/data/dataset/img_data/test/smoke'"
      ],
      "metadata": {
        "id": "GAubAzGIiws_"
      },
      "execution_count": null,
      "outputs": []
    },
    {
      "cell_type": "code",
      "source": [
        "# load videos\n",
        "train_videos = '/content/drive/MyDrive/data/dataset/video_data/test_videos'\n",
        "test_videos = '/content/drive/MyDrive/data/dataset/video_data/test_videos'"
      ],
      "metadata": {
        "id": "CvKzoBY_i3oj"
      },
      "execution_count": null,
      "outputs": []
    },
    {
      "cell_type": "code",
      "source": [
        "import os\n",
        "import numpy as np\n",
        "import cv2\n",
        "from sklearn.metrics import accuracy_score\n",
        "\n"
      ],
      "metadata": {
        "id": "7A3bGqeIi7wM"
      },
      "execution_count": null,
      "outputs": []
    },
    {
      "cell_type": "code",
      "source": [
        "def extract_features_from_hsv(hsv_img):\n",
        "    \"\"\"\n",
        "    Extract mean hue, saturation, and value from an HSV image.\n",
        "    Args:\n",
        "    - hsv_img (numpy.ndarray): An image in HSV format.\n",
        "\n",
        "    Returns:\n",
        "    - tuple of float: mean_hue, mean_sat, mean_val\n",
        "    \"\"\"\n",
        "    mean_hue = np.mean(hsv_img[:, :, 0])\n",
        "    mean_sat = np.mean(hsv_img[:, :, 1])\n",
        "    mean_val = np.mean(hsv_img[:, :, 2])\n",
        "\n",
        "    return mean_hue, mean_sat, mean_val"
      ],
      "metadata": {
        "id": "fWvy0qKFre-2"
      },
      "execution_count": null,
      "outputs": []
    },
    {
      "cell_type": "code",
      "source": [
        "def load_hsv_channels_from_folder(folder_path):\n",
        "    # List all files in the folder\n",
        "    image_files = [f for f in os.listdir(folder_path) if os.path.isfile(os.path.join(folder_path, f)) and f.endswith(\".jpg\")]\n",
        "\n",
        "    # Initialize empty lists to store hue, sat, value features and labels\n",
        "    hue_features = []\n",
        "    sat_features = []\n",
        "    val_features = []\n",
        "    labels = []\n",
        "\n",
        "    for image_file in image_files:\n",
        "        image_path = os.path.join(folder_path, image_file)\n",
        "\n",
        "        # Read image\n",
        "        img = cv2.imread(image_path)\n",
        "\n",
        "        # Convert to HSV\n",
        "        hsv_img = cv2.cvtColor(img, cv2.COLOR_BGR2HSV)\n",
        "\n",
        "\n",
        "        # Extract features\n",
        "        mean_hue, mean_sat, mean_val = extract_features_from_hsv(hsv_img)\n",
        "\n",
        "        # Append to lists\n",
        "        hue_features.append(mean_hue)\n",
        "        sat_features.append(mean_sat)\n",
        "        val_features.append(mean_val)\n",
        "        labels.append('fire')  # Assuming all images in the folder are of fire\n",
        "\n",
        "    return hue_features, sat_features, val_features, labels\n"
      ],
      "metadata": {
        "id": "HKxb76OY0AME"
      },
      "execution_count": null,
      "outputs": []
    },
    {
      "cell_type": "code",
      "source": [
        "msg = EmailMess"
      ],
      "metadata": {
        "id": "t_96LEMcuTr8"
      },
      "execution_count": null,
      "outputs": []
    },
    {
      "cell_type": "code",
      "source": [
        "def custom_hsv_classifier(mean_hue, mean_sat, mean_val):\n",
        "    if mean_hue > some_threshold_1:\n",
        "        return \"fire\"\n",
        "    elif mean_sat > some_threshold_2:\n",
        "        return \"smoke\"\n",
        "    else:\n",
        "        return \"default\"\n"
      ],
      "metadata": {
        "id": "8CyVYE7h0nNH"
      },
      "execution_count": null,
      "outputs": []
    },
    {
      "cell_type": "code",
      "source": [
        "some_threshold_1 = 80\n",
        "some_threshold_2 = 60"
      ],
      "metadata": {
        "id": "KSlBOyeF03u4"
      },
      "execution_count": null,
      "outputs": []
    },
    {
      "cell_type": "code",
      "source": [
        "correct_predictions = 0\n",
        "total_images = 0\n",
        "\n",
        "folders = [test_fire_images, test_default_images, test_smoke_images,train_fire_images,train_default_images,train_smoke_images]\n",
        "\n",
        "for folder in folders:\n",
        "    for filename in os.listdir(folder):\n",
        "        img = cv2.imread(os.path.join(folder, filename))\n",
        "        if img is not None:\n",
        "            img = cv2.resize(img, (64, 64))\n",
        "            hsv_img = cv2.cvtColor(img, cv2.COLOR_BGR2HSV)\n",
        "            mean_hue, mean_sat, mean_val = extract_features_from_hsv(hsv_img)\n",
        "\n",
        "            prediction = custom_hsv_classifier(mean_hue, mean_sat, mean_val)\n",
        "\n",
        "            if prediction == folder.split(\"/\")[-1]:  # Assuming label is the last part of your path\n",
        "                correct_predictions += 1\n",
        "\n",
        "            total_images += 1\n",
        "\n",
        "accuracy = correct_predictions / total_images\n",
        "print(f\"Accuracy: {accuracy}\")\n"
      ],
      "metadata": {
        "id": "pHNx1UFFioph",
        "colab": {
          "base_uri": "https://localhost:8080/"
        },
        "outputId": "a77423ea-8efe-464a-8d75-6f263fc07c0b"
      },
      "execution_count": null,
      "outputs": [
        {
          "output_type": "stream",
          "name": "stdout",
          "text": [
            "Accuracy: 0.48112603966730644\n"
          ]
        }
      ]
    }
  ]
}