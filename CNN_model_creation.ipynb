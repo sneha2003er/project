{
  "cells": [
    {
      "cell_type": "markdown",
      "metadata": {
        "id": "view-in-github",
        "colab_type": "text"
      },
      "source": [
        "<a href=\"https://colab.research.google.com/github/sneha2003er/project/blob/main/CNN_model_creation.ipynb\" target=\"_parent\"><img src=\"https://colab.research.google.com/assets/colab-badge.svg\" alt=\"Open In Colab\"/></a>"
      ]
    },
    {
      "cell_type": "code",
      "execution_count": null,
      "metadata": {
        "id": "PCF4wNL-RzcI"
      },
      "outputs": [],
      "source": [
        "from google.colab import drive\n",
        "\n"
      ]
    },
    {
      "cell_type": "code",
      "execution_count": null,
      "metadata": {
        "colab": {
          "base_uri": "https://localhost:8080/"
        },
        "id": "ASZKa4y8R8yk",
        "outputId": "6d227557-354e-4b13-ba52-b25fee447c68"
      },
      "outputs": [
        {
          "output_type": "stream",
          "name": "stdout",
          "text": [
            "Mounted at /content/drive\n"
          ]
        }
      ],
      "source": [
        "drive.mount('/content/drive')\n",
        "\n",
        "\n"
      ]
    },
    {
      "cell_type": "code",
      "execution_count": null,
      "metadata": {
        "id": "9U3Z92XcSUIt"
      },
      "outputs": [],
      "source": [
        "# Load images\n",
        "train_fire_images = '/content/drive/MyDrive/data/dataset/img_data/train/fire'\n",
        "train_default_images = '/content/drive/MyDrive/data/dataset/img_data/train/default'\n",
        "train_smoke_images = '/content/drive/MyDrive/data/dataset/img_data/train/smoke'\n",
        "\n",
        "test_fire_images = '/content/drive/MyDrive/data/dataset/img_data/test/fire'\n",
        "test_default_images ='/content/drive/MyDrive/data/dataset/img_data/test/default'\n",
        "test_smoke_images = '/content/drive/MyDrive/data/dataset/img_data/test/smoke'"
      ]
    },
    {
      "cell_type": "code",
      "execution_count": null,
      "metadata": {
        "id": "YIL0sarJSZLe"
      },
      "outputs": [],
      "source": [
        "# load videos\n",
        "train_videos = '/content/drive/MyDrive/data/dataset/video_data/test_videos'\n",
        "test_videos = '/content/drive/MyDrive/data/dataset/video_data/test_videos'"
      ]
    },
    {
      "cell_type": "markdown",
      "metadata": {
        "id": "a6aCKTKpde0B"
      },
      "source": [
        "## Import Libraries"
      ]
    },
    {
      "cell_type": "markdown",
      "metadata": {
        "id": "vjSPzGww6McR"
      },
      "source": []
    },
    {
      "cell_type": "code",
      "execution_count": null,
      "metadata": {
        "colab": {
          "base_uri": "https://localhost:8080/"
        },
        "id": "jGCWOFRb276q",
        "outputId": "819099e0-70d7-4fa8-d5d2-ebaf80978118"
      },
      "outputs": [
        {
          "output_type": "stream",
          "name": "stdout",
          "text": [
            "Collecting playsound\n",
            "  Downloading playsound-1.3.0.tar.gz (7.7 kB)\n",
            "  Preparing metadata (setup.py) ... \u001b[?25l\u001b[?25hdone\n",
            "Building wheels for collected packages: playsound\n",
            "  Building wheel for playsound (setup.py) ... \u001b[?25l\u001b[?25hdone\n",
            "  Created wheel for playsound: filename=playsound-1.3.0-py3-none-any.whl size=7020 sha256=c72d35b21abcbfa93f59bcc00e66c5d0dcce6bc290bc42eb370fa32419ede3aa\n",
            "  Stored in directory: /root/.cache/pip/wheels/90/89/ed/2d643f4226fc8c7c9156fc28abd8051e2d2c0de37ae51ac45c\n",
            "Successfully built playsound\n",
            "Installing collected packages: playsound\n",
            "Successfully installed playsound-1.3.0\n"
          ]
        }
      ],
      "source": [
        "!pip install playsound"
      ]
    },
    {
      "cell_type": "code",
      "execution_count": null,
      "metadata": {
        "id": "0DuZHeeLSdPg",
        "colab": {
          "base_uri": "https://localhost:8080/"
        },
        "outputId": "9bac1b19-f2fe-4fc7-dd23-160111849ea4"
      },
      "outputs": [
        {
          "output_type": "stream",
          "name": "stderr",
          "text": [
            "WARNING:playsound:playsound is relying on another python subprocess. Please use `pip install pygobject` if you want playsound to run more efficiently.\n"
          ]
        }
      ],
      "source": [
        "import numpy as np\n",
        "import os\n",
        "import seaborn as sns\n",
        "import matplotlib.pyplot as plt\n",
        "import tensorflow as tf\n",
        "import cv2\n",
        "from PIL import Image\n",
        "from tensorflow.keras.utils import to_categorical\n",
        "from tensorflow.keras.models import Sequential\n",
        "from tensorflow.keras.utils import plot_model\n",
        "from tensorflow.keras.layers import Conv2D, MaxPooling2D, Flatten, Dense\n",
        "from sklearn.metrics import confusion_matrix\n",
        "from sklearn.metrics import precision_score, recall_score, f1_score\n",
        "\n"
      ]
    },
    {
      "cell_type": "markdown",
      "metadata": {
        "id": "RR-LJc_9cs_1"
      },
      "source": [
        "## Preprocess the Image Data:"
      ]
    },
    {
      "cell_type": "code",
      "execution_count": null,
      "metadata": {
        "id": "CAX-Hj7ZSjJi"
      },
      "outputs": [],
      "source": [
        "# Reloading the images for the CNN without flattening and normalizing\n",
        "def load_images_for_cnn(folder, label):\n",
        "    images = []\n",
        "    labels = []\n",
        "    for filename in os.listdir(folder):\n",
        "        img = tf.keras.preprocessing.image.load_img(os.path.join(folder, filename), target_size=(64, 64))\n",
        "        img_array = tf.keras.preprocessing.image.img_to_array(img)\n",
        "        images.append(img_array)\n",
        "        labels.append(label)\n",
        "    return np.array(images), np.array(labels)\n",
        "\n",
        "\n"
      ]
    },
    {
      "cell_type": "code",
      "execution_count": null,
      "metadata": {
        "id": "C0rn7BiFSnpu"
      },
      "outputs": [],
      "source": [
        "# Encoding labels: fire->0, default->1, smoke->2\n",
        "label_dict = {\"fire\": 0, \"default\": 1, \"smoke\": 2}\n",
        "\n"
      ]
    },
    {
      "cell_type": "code",
      "execution_count": null,
      "metadata": {
        "id": "D9zTOJsISrlZ"
      },
      "outputs": [],
      "source": [
        "# Load datasets\n",
        "X_train_fire, y_train_fire = load_images_for_cnn(train_fire_images, label_dict[\"fire\"])\n",
        "X_train_default, y_train_default = load_images_for_cnn(train_default_images, label_dict[\"default\"])\n",
        "X_train_smoke, y_train_smoke = load_images_for_cnn(train_smoke_images, label_dict[\"smoke\"])\n",
        "\n",
        "X_test_fire, y_test_fire = load_images_for_cnn(test_fire_images, label_dict[\"fire\"])\n",
        "X_test_default, y_test_default = load_images_for_cnn(test_default_images, label_dict[\"default\"])\n",
        "X_test_smoke, y_test_smoke = load_images_for_cnn(test_smoke_images, label_dict[\"smoke\"])\n"
      ]
    },
    {
      "cell_type": "code",
      "execution_count": null,
      "metadata": {
        "id": "6yu5E38DS-s4"
      },
      "outputs": [],
      "source": [
        "# Concatenate datasets\n",
        "X_train = np.vstack((X_train_fire, X_train_default, X_train_smoke))\n",
        "y_train = np.hstack((y_train_fire, y_train_default, y_train_smoke))\n",
        "\n",
        "X_test = np.vstack((X_test_fire, X_test_default, X_test_smoke))\n",
        "y_test = np.hstack((y_test_fire, y_test_default, y_test_smoke))\n"
      ]
    },
    {
      "cell_type": "code",
      "execution_count": null,
      "metadata": {
        "id": "k3_GqpFITQIR"
      },
      "outputs": [],
      "source": [
        "# Normalize data\n",
        "X_train = X_train.astype('float32') / 255.0\n",
        "X_test = X_test.astype('float32') / 255.0"
      ]
    },
    {
      "cell_type": "code",
      "execution_count": null,
      "metadata": {
        "id": "T6IFCdwYTWj-"
      },
      "outputs": [],
      "source": [
        "# Convert labels to one-hot encoding\n",
        "y_train = to_categorical(y_train)\n",
        "y_test = to_categorical(y_test)"
      ]
    },
    {
      "cell_type": "markdown",
      "metadata": {
        "id": "DaSLiHywc2A-"
      },
      "source": [
        "## Create the CNN Model:"
      ]
    },
    {
      "cell_type": "code",
      "execution_count": null,
      "metadata": {
        "colab": {
          "base_uri": "https://localhost:8080/"
        },
        "id": "Dma8IYJkXhhW",
        "outputId": "653b69bb-03a5-4044-d2b3-a7ee9a2e1464"
      },
      "outputs": [
        {
          "output_type": "stream",
          "name": "stdout",
          "text": [
            "Model: \"sequential\"\n",
            "_________________________________________________________________\n",
            " Layer (type)                Output Shape              Param #   \n",
            "=================================================================\n",
            " conv2d (Conv2D)             (None, 62, 62, 32)        896       \n",
            "                                                                 \n",
            " max_pooling2d (MaxPooling2  (None, 31, 31, 32)        0         \n",
            " D)                                                              \n",
            "                                                                 \n",
            " conv2d_1 (Conv2D)           (None, 29, 29, 64)        18496     \n",
            "                                                                 \n",
            " max_pooling2d_1 (MaxPoolin  (None, 14, 14, 64)        0         \n",
            " g2D)                                                            \n",
            "                                                                 \n",
            " flatten (Flatten)           (None, 12544)             0         \n",
            "                                                                 \n",
            " dense (Dense)               (None, 128)               1605760   \n",
            "                                                                 \n",
            " dense_1 (Dense)             (None, 3)                 387       \n",
            "                                                                 \n",
            "=================================================================\n",
            "Total params: 1625539 (6.20 MB)\n",
            "Trainable params: 1625539 (6.20 MB)\n",
            "Non-trainable params: 0 (0.00 Byte)\n",
            "_________________________________________________________________\n"
          ]
        }
      ],
      "source": [
        "model = Sequential([\n",
        "    Conv2D(32, (3, 3), activation='relu', input_shape=(64, 64, 3)),\n",
        "    MaxPooling2D(2, 2),\n",
        "    Conv2D(64, (3, 3), activation='relu'),\n",
        "    MaxPooling2D(2, 2),\n",
        "    Flatten(),\n",
        "    Dense(128, activation='relu'),\n",
        "    Dense(3, activation='softmax')  # 3 classes: fire, default, smoke\n",
        "])\n",
        "\n",
        "model.compile(optimizer='adam', loss='categorical_crossentropy', metrics=['accuracy'])\n",
        "model.summary()"
      ]
    },
    {
      "cell_type": "markdown",
      "metadata": {
        "id": "8EDWeHf6c5Nm"
      },
      "source": [
        "## Model Visualization:"
      ]
    },
    {
      "cell_type": "code",
      "execution_count": null,
      "metadata": {
        "colab": {
          "base_uri": "https://localhost:8080/",
          "height": 865
        },
        "id": "ZgnvU4kdZWDn",
        "outputId": "0db04c86-e15c-42d0-d79a-d227781bc406"
      },
      "outputs": [
        {
          "output_type": "execute_result",
          "data": {
            "image/png": "[encoded data removed]",
            "text/plain": [
              "<IPython.core.display.Image object>"
            ]
          },
          "metadata": {},
          "execution_count": 14
        }
      ],
      "source": [
        "plot_model(model, to_file='model.png', show_shapes=True, show_layer_names=True)\n",
        "\n"
      ]
    },
    {
      "cell_type": "markdown",
      "metadata": {
        "id": "pXwxqQRLdHp8"
      },
      "source": [
        "##  Train the Model:"
      ]
    },
    {
      "cell_type": "code",
      "execution_count": null,
      "metadata": {
        "colab": {
          "base_uri": "https://localhost:8080/"
        },
        "id": "amKCtq6ZT0t4",
        "outputId": "8235ecfd-e7d0-4608-f293-2df4d9d84d2e"
      },
      "outputs": [
        {
          "output_type": "stream",
          "name": "stdout",
          "text": [
            "Epoch 1/10\n",
            "41/41 [==============================] - 9s 197ms/step - loss: 1.0175 - accuracy: 0.5019 - val_loss: 0.8703 - val_accuracy: 0.6111\n",
            "Epoch 2/10\n",
            "41/41 [==============================] - 6s 150ms/step - loss: 0.6165 - accuracy: 0.7582 - val_loss: 0.7629 - val_accuracy: 0.6190\n",
            "Epoch 3/10\n",
            "41/41 [==============================] - 8s 191ms/step - loss: 0.4772 - accuracy: 0.8200 - val_loss: 0.8648 - val_accuracy: 0.5754\n",
            "Epoch 4/10\n",
            "41/41 [==============================] - 6s 154ms/step - loss: 0.4348 - accuracy: 0.8322 - val_loss: 1.1428 - val_accuracy: 0.5913\n",
            "Epoch 5/10\n",
            "41/41 [==============================] - 8s 188ms/step - loss: 0.3437 - accuracy: 0.8719 - val_loss: 1.0280 - val_accuracy: 0.6032\n",
            "Epoch 6/10\n",
            "41/41 [==============================] - 6s 152ms/step - loss: 0.2705 - accuracy: 0.8993 - val_loss: 0.9984 - val_accuracy: 0.5476\n",
            "Epoch 7/10\n",
            "41/41 [==============================] - 8s 191ms/step - loss: 0.2324 - accuracy: 0.9199 - val_loss: 1.0281 - val_accuracy: 0.6151\n",
            "Epoch 8/10\n",
            "41/41 [==============================] - 6s 151ms/step - loss: 0.1488 - accuracy: 0.9497 - val_loss: 1.5663 - val_accuracy: 0.4524\n",
            "Epoch 9/10\n",
            "41/41 [==============================] - 8s 190ms/step - loss: 0.1213 - accuracy: 0.9596 - val_loss: 1.5347 - val_accuracy: 0.5992\n",
            "Epoch 10/10\n",
            "41/41 [==============================] - 6s 157ms/step - loss: 0.0996 - accuracy: 0.9657 - val_loss: 1.5880 - val_accuracy: 0.5238\n"
          ]
        },
        {
          "output_type": "execute_result",
          "data": {
            "text/plain": [
              "<keras.src.callbacks.History at 0x7c961471c820>"
            ]
          },
          "metadata": {},
          "execution_count": 15
        }
      ],
      "source": [
        "model.fit(X_train, y_train, epochs=10, validation_data=(X_test, y_test), batch_size=32)\n",
        "\n",
        "\n"
      ]
    },
    {
      "cell_type": "markdown",
      "metadata": {
        "id": "Xx4wf27pdOjX"
      },
      "source": [
        "##  Evaluate the Model on Entire Dataset:"
      ]
    },
    {
      "cell_type": "code",
      "execution_count": null,
      "metadata": {
        "id": "eKN-7OqqUSR6",
        "colab": {
          "base_uri": "https://localhost:8080/"
        },
        "outputId": "51d8c710-1097-4c12-d003-0543e5dfac35"
      },
      "outputs": [
        {
          "output_type": "stream",
          "name": "stdout",
          "text": [
            "49/49 [==============================] - 3s 66ms/step - loss: 0.3673 - accuracy: 0.8791\n",
            "Overall Accuracy using CNN: 0.8790786862373352\n"
          ]
        }
      ],
      "source": [
        "_, overall_accuracy = model.evaluate(np.vstack((X_train, X_test)), np.vstack((y_train, y_test)))\n",
        "print(f\"Overall Accuracy using CNN: {overall_accuracy}\")"
      ]
    },
    {
      "cell_type": "markdown",
      "metadata": {
        "id": "Q9pr6jcudU8x"
      },
      "source": [
        "## Plot a Confusion Matrix:"
      ]
    },
    {
      "cell_type": "code",
      "execution_count": null,
      "metadata": {
        "colab": {
          "base_uri": "https://localhost:8080/",
          "height": 658
        },
        "id": "4K2sYh1GU7ov",
        "outputId": "3cc35fec-7fb5-4970-96a4-f9a4559b8231"
      },
      "outputs": [
        {
          "output_type": "stream",
          "name": "stdout",
          "text": [
            "49/49 [==============================] - 2s 38ms/step\n"
          ]
        },
        {
          "output_type": "display_data",
          "data": {
            "text/plain": [
              "<Figure size 1000x700 with 2 Axes>"
            ],
            "image/png": "[encoded data removed]"
          },
          "metadata": {}
        }
      ],
      "source": [
        "# Predict\n",
        "y_pred = model.predict(np.vstack((X_train, X_test)))\n",
        "y_pred_classes = np.argmax(y_pred, axis=1)\n",
        "y_true_classes = np.argmax(np.vstack((y_train, y_test)), axis=1)\n",
        "\n",
        "# Confusion matrix\n",
        "cm = confusion_matrix(y_true_classes, y_pred_classes)\n",
        "\n",
        "# Plotting confusion matrix\n",
        "plt.figure(figsize=(10, 7))\n",
        "sns.heatmap(cm, annot=True, fmt=\"d\", cmap=\"Blues\",\n",
        "            xticklabels=[\"fire\", \"default\", \"smoke\"],\n",
        "            yticklabels=[\"fire\", \"default\", \"smoke\"])\n",
        "plt.xlabel('Predicted labels')\n",
        "plt.ylabel('True labels')\n",
        "plt.title('Confusion Matrix using CNN ')\n",
        "plt.show()"
      ]
    },
    {
      "cell_type": "code",
      "source": [
        "# Confusion matrix\n",
        "cm = confusion_matrix(y_true_classes, y_pred_classes)\n",
        "\n",
        "# Calculate precision, recall, and F1 score for each class\n",
        "precision = precision_score(y_true_classes, y_pred_classes, average=None)\n",
        "recall = recall_score(y_true_classes, y_pred_classes, average=None)\n",
        "f1 = f1_score(y_true_classes, y_pred_classes, average=None)\n",
        "\n",
        "# Calculate overall precision, recall, and F1 score\n",
        "overall_precision = precision_score(y_true_classes, y_pred_classes, average='weighted')\n",
        "overall_recall = recall_score(y_true_classes, y_pred_classes, average='weighted')\n",
        "overall_f1 = f1_score(y_true_classes, y_pred_classes, average='weighted')"
      ],
      "metadata": {
        "id": "I-K33oBmaGRN"
      },
      "execution_count": null,
      "outputs": []
    },
    {
      "cell_type": "code",
      "source": [
        "# Print the results\n",
        "print(\"Class-wise Precision:\", precision)\n",
        "print(\"Class-wise Recall:\", recall)\n",
        "print(\"Class-wise F1 Score:\", f1)\n",
        "\n",
        "print(\"Overall Precision:\", overall_precision)\n",
        "print(\"Overall Recall:\", overall_recall)\n",
        "print(\"Overall F1 Score:\", overall_f1)"
      ],
      "metadata": {
        "colab": {
          "base_uri": "https://localhost:8080/"
        },
        "id": "He0Y9yDcaODl",
        "outputId": "56fdeee8-52a4-4ce3-de9b-853e1763212d"
      },
      "execution_count": null,
      "outputs": [
        {
          "output_type": "stream",
          "name": "stdout",
          "text": [
            "Class-wise Precision: [0.84798535 0.95852535 0.8490566 ]\n",
            "Class-wise Recall: [0.88867562 0.79846449 0.95009597]\n",
            "Class-wise F1 Score: [0.8678538  0.87120419 0.89673913]\n",
            "Overall Precision: 0.8851890991270176\n",
            "Overall Recall: 0.8790786948176583\n",
            "Overall F1 Score: 0.8785990382017685\n"
          ]
        }
      ]
    },
    {
      "cell_type": "code",
      "source": [
        "# Save the model in the SavedModel format\n",
        "saved_model_path = '/content/drive/MyDrive/data/dataset/img_data/saved_model'\n",
        "tf.saved_model.save(model, saved_model_path)\n",
        "\n",
        "# Load the SavedModel\n",
        "loaded_model = tf.saved_model.load(saved_model_path)\n"
      ],
      "metadata": {
        "id": "zbdYQDO9LaI7"
      },
      "execution_count": null,
      "outputs": []
    },
    {
      "cell_type": "code",
      "source": [
        "# Define the function to make predictions on a single image\n",
        "def predict_single_image(image_path):\n",
        "    try:\n",
        "        # Load and preprocess the input image\n",
        "        img = cv2.imread(image_path)\n",
        "\n",
        "        if img is None:\n",
        "            raise ValueError(f\"Error loading the image. Please check the file path: {image_path}\")\n",
        "\n",
        "        img = cv2.resize(img, (64, 64))\n",
        "        img = img.astype('float32') / 255.0\n",
        "        img = np.expand_dims(img, axis=0)\n",
        "\n",
        "        # Make a prediction using the loaded SavedModel\n",
        "        prediction = loaded_model(tf.constant(img))\n",
        "        predicted_class = np.argmax(prediction.numpy())\n",
        "\n",
        "        # Decode the predicted class\n",
        "        classes_dict = {0: 'fire', 1: 'default', 2: 'smoke'}\n",
        "        predicted_label = classes_dict[predicted_class]\n",
        "\n",
        "        return predicted_label\n",
        "\n",
        "    except Exception as e:\n",
        "        print(f\"An error occurred: {str(e)}\")\n",
        "        return \"Error\""
      ],
      "metadata": {
        "id": "jjMlTzNvLjks"
      },
      "execution_count": null,
      "outputs": []
    },
    {
      "cell_type": "code",
      "source": [
        "# Example usage:\n",
        "base_directory = '/content/drive/MyDrive/data/dataset/img_data'\n",
        "\n",
        "# Test with a specific image\n",
        "test_image_path = os.path.join(base_directory, '/content/drive/MyDrive/data/test fire image 2.jpg')  # Replace with the actual path to your test image\n",
        "print(f\"Testing with image: {test_image_path}\")\n",
        "\n",
        "# Make a prediction\n",
        "result = predict_single_image(test_image_path)\n",
        "print(f\"The input image is predicted as: {result}\")\n"
      ],
      "metadata": {
        "colab": {
          "base_uri": "https://localhost:8080/"
        },
        "id": "8-WkOKaMLo7b",
        "outputId": "c22fa28b-0397-4ba4-83af-a2b4c14fd11d"
      },
      "execution_count": null,
      "outputs": [
        {
          "output_type": "stream",
          "name": "stdout",
          "text": [
            "Testing with image: /content/drive/MyDrive/data/test fire image 2.jpg\n",
            "The input image is predicted as: fire\n"
          ]
        }
      ]
    }
  ],
  "metadata": {
    "colab": {
      "provenance": [],
      "authorship_tag": "ABX9TyNcBzUGMoJn0MWdqYJKto0x",
      "include_colab_link": true
    },
    "kernelspec": {
      "display_name": "Python 3",
      "name": "python3"
    },
    "language_info": {
      "name": "python"
    }
  },
  "nbformat": 4,
  "nbformat_minor": 0
}